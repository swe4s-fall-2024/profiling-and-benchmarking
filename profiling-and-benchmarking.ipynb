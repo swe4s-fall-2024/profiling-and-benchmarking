{
 "cells": [
  {
   "cell_type": "markdown",
   "id": "725cba70-7927-4251-8d54-410becc4c8f3",
   "metadata": {},
   "source": [
    "# Intro to profiling and benchmarking \n",
    "\n",
    "In other words, \n",
    "\n",
    "- how long does it take my code to run?\n",
    "- what sections of code are taking the longest?\n",
    "- how much time are the CPUs working as opposed to waiting?\n",
    "- how much memory does my program use?\n",
    "\n",
    "Much of this Jupyter Notebook is copied from [Real Python](https://realpython.com/python-profiling/) which is a great resource for in-depth explanations of topics relating to Python. \n",
    "\n",
    "## Profiling - how much time?"
   ]
  },
  {
   "cell_type": "markdown",
   "id": "29080108",
   "metadata": {},
   "source": [
    "### `time` and `timeit`"
   ]
  },
  {
   "cell_type": "code",
   "execution_count": 1,
   "id": "80e22706-e9b4-412d-91ab-f5822c05e14a",
   "metadata": {
    "scrolled": true
   },
   "outputs": [
    {
     "name": "stdout",
     "output_type": "stream",
     "text": [
      "sleeper()\n",
      " Real time: 1.76 seconds\n",
      " CPU time: 0.00 seconds\n",
      "\n",
      "spinlock()\n",
      " Real time: 0.91 seconds\n",
      " CPU time: 0.91 seconds\n",
      "\n"
     ]
    }
   ],
   "source": [
    "# time module\n",
    "import time\n",
    "\n",
    "def sleeper():\n",
    "    \"\"\"\n",
    "    This function remains dormant without occupying the computer's CPU and allows other threads\n",
    "    and programs to run\n",
    "    \"\"\"\n",
    "    time.sleep(1.75)\n",
    "\n",
    "\n",
    "def spinlock():\n",
    "    \"\"\"\n",
    "    This function doesn't do anything but it does occupy your computer's CPU--it's 'busy waiting'\n",
    "    \"\"\"\n",
    "    for _ in range(100_000_000):\n",
    "        pass\n",
    "\n",
    "for function in sleeper, spinlock:\n",
    "    # time.perf_counter() gets the elapsed real time\n",
    "    # time.process_time() gets the CPU time\n",
    "    t1 = time.perf_counter(), time.process_time()\n",
    "    function()\n",
    "    t2 = time.perf_counter(), time.process_time()\n",
    "    print(f\"{function.__name__}()\")\n",
    "    print(f\" Real time: {t2[0] - t1[0]:.2f} seconds\")\n",
    "    print(f\" CPU time: {t2[1] - t1[1]:.2f} seconds\")\n",
    "    print()"
   ]
  },
  {
   "cell_type": "markdown",
   "id": "3a81cb47-de43-42ad-a196-b95795b33d6b",
   "metadata": {},
   "source": [
    "`time.perf_counter()` gets the elapsed real time, or wall-clock time, and `time.process_time()` get the \"CPU time\" (which means amount of time that a central processing unit (CPU) was used for processing instructions). These will tell you how long your functions took to execute and how much of that time they spent on the processor. If a function waits for another thread or an I/O operation to finish, then it won’t use any CPU time.\n",
    "\n"
   ]
  },
  {
   "cell_type": "code",
   "execution_count": 3,
   "id": "bf284e91-d192-4532-acc1-c4501068f0d0",
   "metadata": {},
   "outputs": [
    {
     "name": "stdout",
     "output_type": "stream",
     "text": [
      "1.2 μs ± 8.95 ns per loop (mean ± std. dev. of 7 runs, 1,000,000 loops each)\n"
     ]
    }
   ],
   "source": [
    "# timeit module\n",
    "from timeit import timeit\n",
    "\n",
    "def fib(n):\n",
    "     return n if n < 2 else fib(n - 2) + fib(n - 1)\n",
    "\n"
   ]
  },
  {
   "cell_type": "markdown",
   "id": "d237088d",
   "metadata": {},
   "source": [
    "It can be nice to use the `timeit` module in Jupyter Notebooks. The IPython kernel (which Jupyter Notebooks are built on top of) comes with some [built-in commands](https://ipython.readthedocs.io/en/stable/interactive/magics.html#built-in-magic-commands) called \"magics\". A few of the [`timeit` functionalities](https://ipython.readthedocs.io/en/stable/interactive/magics.html#magic-timeit) have magics. You can specify the number of times to execute the given Python code, the number of repeats, the precision in the output, etc."
   ]
  },
  {
   "cell_type": "code",
   "execution_count": 8,
   "id": "a9e105ed",
   "metadata": {},
   "outputs": [
    {
     "name": "stdout",
     "output_type": "stream",
     "text": [
      "2.01 s ± 0 ns per loop (mean ± std. dev. of 1 run, 1 loop each)\n",
      "1 s ± 0 ns per loop (mean ± std. dev. of 1 run, 2 loops each)\n"
     ]
    }
   ],
   "source": [
    "# '%timeit' times a Python statement \n",
    "%timeit -n1 -r1 time.sleep(2)\n",
    "%timeit -n2 -r1 time.sleep(1)"
   ]
  },
  {
   "cell_type": "markdown",
   "id": "7eca76ff",
   "metadata": {},
   "source": [
    "You can also use `timeit` in a Python module and via the command line (see [here](https://realpython.com/python-profiling/#timeit-benchmark-short-code-snippets))"
   ]
  },
  {
   "cell_type": "markdown",
   "id": "e343bb61",
   "metadata": {},
   "source": [
    "### cProfile"
   ]
  },
  {
   "cell_type": "code",
   "execution_count": 11,
   "id": "4f624de5",
   "metadata": {},
   "outputs": [
    {
     "name": "stdout",
     "output_type": "stream",
     "text": [
      "         29860706 function calls (4 primitive calls) in 2.675 seconds\n",
      "\n",
      "   Ordered by: internal time\n",
      "\n",
      "   ncalls  tottime  percall  cumtime  percall filename:lineno(function)\n",
      "29860703/1    2.675    0.000    2.675    2.675 fibonacci.py:1(fib)\n",
      "        1    0.000    0.000    0.000    0.000 {method 'disable' of '_lsprof.Profiler' objects}\n",
      "        1    0.000    0.000    2.675    2.675 {built-in method builtins.exec}\n",
      "        1    0.000    0.000    2.675    2.675 fibonacci.py:1(<module>)\n",
      "\n",
      "\n"
     ]
    }
   ],
   "source": [
    "!python -m cProfile -s tottime fibonacci.py # -s tottime sorts by the \"tottime\" column"
   ]
  },
  {
   "cell_type": "markdown",
   "id": "13ca6505",
   "metadata": {},
   "source": [
    "The output tell us that the program took over 2.5 seconds to finish while making exactly 29,860,706 function calls, only 4 of which were primitive or non-recursive calls, including just one non-recursive call to `fib()`. \n",
    "\n",
    "- ncalls: the number of calls,\n",
    "- tottime: the total time spent in the given function (and excluding time made in calls to sub-functions)\n",
    "- percall: the quotient of tottime divided by ncalls\n",
    "- cumtime: the cumulative time spent in this and all subfunctions (from invocation until exit).\n",
    "- percall: is the quotient of cumtime divided by primitive calls\n",
    "- filename:lineno(function): provides the respective data of each function"
   ]
  },
  {
   "cell_type": "markdown",
   "id": "e98ed991",
   "metadata": {},
   "source": [
    "## Benchmarking - how much memory?\n",
    "\n",
    "Using [GNU Time](https://www.gnu.org/software/time/) which I installed on my Mac using Homebrew/`brew` via `brew install gnu-time` and the way to use the `brew` GNU Time is via the command `gtime`."
   ]
  },
  {
   "cell_type": "code",
   "execution_count": 19,
   "id": "3253da1c",
   "metadata": {},
   "outputs": [
    {
     "name": "stdout",
     "output_type": "stream",
     "text": [
      "time (sec): 0.01\n",
      "memory (kb): 11888\n"
     ]
    }
   ],
   "source": [
    "!gtime -f 'time (sec): %e\\nmemory (kb): %M' python grow.py 100000"
   ]
  },
  {
   "cell_type": "markdown",
   "id": "37f2bb9e",
   "metadata": {},
   "source": [
    "And to get a feel for how your program scales with the input \"size\", you can do things like"
   ]
  },
  {
   "cell_type": "code",
   "execution_count": 29,
   "id": "04ec9abf",
   "metadata": {},
   "outputs": [
    {
     "name": "stdout",
     "output_type": "stream",
     "text": [
      "Size = 1\n",
      "time (sec): 0.00\n",
      "memory (kb): 8016\n",
      "\n",
      "\n",
      "Size = 200001\n",
      "time (sec): 0.01\n",
      "memory (kb): 15872\n",
      "\n",
      "\n",
      "Size = 400001\n",
      "time (sec): 0.02\n",
      "memory (kb): 23712\n",
      "\n",
      "\n",
      "Size = 600001\n",
      "time (sec): 0.02\n",
      "memory (kb): 31536\n",
      "\n",
      "\n",
      "Size = 800001\n",
      "time (sec): 0.03\n",
      "memory (kb): 39456\n",
      "\n",
      "\n",
      "Size = 1000001\n",
      "time (sec): 0.04\n",
      "memory (kb): 54592\n",
      "\n",
      "\n"
     ]
    }
   ],
   "source": [
    "!for i in $(seq -f \"%.0f\" 1 200000 1000001); do gtime -f 'time (sec): %e\\nmemory (kb): %M\\n\\n' python grow.py $i; done"
   ]
  }
 ],
 "metadata": {
  "kernelspec": {
   "display_name": "profiling-benchmarking",
   "language": "python",
   "name": "python3"
  },
  "language_info": {
   "codemirror_mode": {
    "name": "ipython",
    "version": 3
   },
   "file_extension": ".py",
   "mimetype": "text/x-python",
   "name": "python",
   "nbconvert_exporter": "python",
   "pygments_lexer": "ipython3",
   "version": "3.12.7"
  }
 },
 "nbformat": 4,
 "nbformat_minor": 5
}
